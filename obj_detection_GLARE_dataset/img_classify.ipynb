{
 "cells": [
  {
   "cell_type": "code",
   "execution_count": 14,
   "metadata": {},
   "outputs": [],
   "source": [
    "import os\n",
    "import torch\n",
    "import torch.nn as nn\n",
    "import torch.optim as optim\n",
    "from torchvision import datasets, models, transforms\n",
    "from torch.utils.data import DataLoader, random_split\n",
    "from PIL import Image\n",
    "import shutil\n",
    "from tqdm import tqdm\n",
    "from torchvision.models import ResNet18_Weights"
   ]
  },
  {
   "cell_type": "code",
   "execution_count": 2,
   "metadata": {},
   "outputs": [],
   "source": [
    "# Set device\n",
    "device = torch.device(\"cuda\" if torch.cuda.is_available() else \"cpu\")\n",
    "\n",
    "# Path to the dataset\n",
    "data_dir = 'extracted_glare_dataset'\n"
   ]
  },
  {
   "cell_type": "code",
   "execution_count": 3,
   "metadata": {},
   "outputs": [],
   "source": [
    "\n",
    "# Data augmentation and normalization for training\n",
    "data_transforms = {\n",
    "    'train': transforms.Compose([\n",
    "        transforms.RandomResizedCrop(224),\n",
    "        transforms.RandomHorizontalFlip(),\n",
    "        transforms.RandomRotation(10),\n",
    "        transforms.ColorJitter(brightness=0.2, contrast=0.2, saturation=0.2, hue=0.1),\n",
    "        transforms.ToTensor(),\n",
    "        transforms.Normalize([0.485, 0.456, 0.406], [0.229, 0.224, 0.225])\n",
    "    ]),\n",
    "    'val': transforms.Compose([\n",
    "        transforms.Resize(256),\n",
    "        transforms.CenterCrop(224),\n",
    "        transforms.ToTensor(),\n",
    "        transforms.Normalize([0.485, 0.456, 0.406], [0.229, 0.224, 0.225])\n",
    "    ]),\n",
    "}"
   ]
  },
  {
   "cell_type": "code",
   "execution_count": 4,
   "metadata": {},
   "outputs": [],
   "source": [
    "\n",
    "# Load dataset\n",
    "dataset = datasets.ImageFolder(data_dir, transform=data_transforms['train'])"
   ]
  },
  {
   "cell_type": "code",
   "execution_count": 5,
   "metadata": {},
   "outputs": [],
   "source": [
    "train_size = int(0.8 * len(dataset))\n",
    "val_size = len(dataset) - train_size\n",
    "train_dataset, val_dataset = random_split(dataset, [train_size, val_size])\n"
   ]
  },
  {
   "cell_type": "code",
   "execution_count": 6,
   "metadata": {},
   "outputs": [],
   "source": [
    "# Apply transformations to the validation set\n",
    "train_dataset.dataset.transform = data_transforms['train']\n",
    "val_dataset.dataset.transform = data_transforms['val']\n"
   ]
  },
  {
   "cell_type": "code",
   "execution_count": 7,
   "metadata": {},
   "outputs": [],
   "source": [
    "train_dir = 'data_split/train'\n",
    "val_dir = 'data_split/val'\n",
    "\n",
    "# Create directories if they don't exist\n",
    "os.makedirs(train_dir, exist_ok=True)\n",
    "os.makedirs(val_dir, exist_ok=True)"
   ]
  },
  {
   "cell_type": "code",
   "execution_count": 9,
   "metadata": {},
   "outputs": [],
   "source": [
    "\n",
    "# Helper function to save the images\n",
    "def save_split(dataset_split, split_dir):\n",
    "    for idx in tqdm(range(len(dataset_split)), desc=f\"Saving {split_dir} data\"):\n",
    "        # Get image path and label\n",
    "        path, label = dataset_split[idx]\n",
    "        class_name = dataset.classes[label]\n",
    "        \n",
    "        # Create class-specific directory if not exists\n",
    "        class_dir = os.path.join(split_dir, class_name)\n",
    "        os.makedirs(class_dir, exist_ok=True)\n",
    "        \n",
    "        # Define target path\n",
    "        image_name = os.path.basename(dataset_split.dataset.samples[dataset_split.indices[idx]][0])\n",
    "        target_path = os.path.join(class_dir, image_name)\n",
    "        \n",
    "        # Copy image to the new directory\n",
    "        shutil.copy(dataset_split.dataset.samples[dataset_split.indices[idx]][0], target_path)\n"
   ]
  },
  {
   "cell_type": "code",
   "execution_count": 10,
   "metadata": {},
   "outputs": [
    {
     "name": "stderr",
     "output_type": "stream",
     "text": [
      "Saving data_split/train data: 100%|██████████| 1725/1725 [00:02<00:00, 622.22it/s]\n",
      "Saving data_split/val data: 100%|██████████| 432/432 [00:00<00:00, 640.95it/s]\n"
     ]
    }
   ],
   "source": [
    "save_split(train_dataset, train_dir)\n",
    "save_split(val_dataset, val_dir)"
   ]
  },
  {
   "cell_type": "code",
   "execution_count": 11,
   "metadata": {},
   "outputs": [],
   "source": [
    "train_loader = DataLoader(train_dataset, batch_size=32, shuffle=True, num_workers=4)\n",
    "val_loader = DataLoader(val_dataset, batch_size=32, shuffle=False, num_workers=4)\n"
   ]
  },
  {
   "cell_type": "code",
   "execution_count": 15,
   "metadata": {},
   "outputs": [],
   "source": [
    "model = models.resnet18(weights=ResNet18_Weights.DEFAULT)\n",
    "num_ftrs = model.fc.in_features\n",
    "model.fc = nn.Linear(num_ftrs, 41)  # 41 classes\n",
    "model = model.to(device)\n",
    "\n",
    "# Define loss function and optimizer\n",
    "criterion = nn.CrossEntropyLoss()\n",
    "optimizer = optim.Adam(model.parameters(), lr=0.001)\n"
   ]
  },
  {
   "cell_type": "code",
   "execution_count": 16,
   "metadata": {},
   "outputs": [],
   "source": [
    "def train_model(model, dataloaders, criterion, optimizer, num_epochs=25):\n",
    "    for epoch in range(num_epochs):\n",
    "        print(f'Epoch {epoch+1}/{num_epochs}')\n",
    "        \n",
    "        # Each epoch has a training and validation phase\n",
    "        for phase in ['train', 'val']:\n",
    "            if phase == 'train':\n",
    "                model.train()  # Set model to training mode\n",
    "                dataloader = train_loader\n",
    "            else:\n",
    "                model.eval()   # Set model to evaluate mode\n",
    "                dataloader = val_loader\n",
    "            \n",
    "            running_loss = 0.0\n",
    "            running_corrects = 0\n",
    "            \n",
    "            # Iterate over data\n",
    "            for inputs, labels in dataloader:\n",
    "                inputs, labels = inputs.to(device), labels.to(device)\n",
    "                \n",
    "                # Zero the parameter gradients\n",
    "                optimizer.zero_grad()\n",
    "                \n",
    "                # Forward pass\n",
    "                with torch.set_grad_enabled(phase == 'train'):\n",
    "                    outputs = model(inputs)\n",
    "                    _, preds = torch.max(outputs, 1)\n",
    "                    loss = criterion(outputs, labels)\n",
    "                    \n",
    "                    # Backward + optimize only if in training phase\n",
    "                    if phase == 'train':\n",
    "                        loss.backward()\n",
    "                        optimizer.step()\n",
    "                \n",
    "                # Statistics\n",
    "                running_loss += loss.item() * inputs.size(0)\n",
    "                running_corrects += torch.sum(preds == labels.data)\n",
    "            \n",
    "            epoch_loss = running_loss / len(dataloader.dataset)\n",
    "            epoch_acc = running_corrects.double() / len(dataloader.dataset)\n",
    "            \n",
    "            print(f'{phase} Loss: {epoch_loss:.4f} Acc: {epoch_acc:.4f}')\n",
    "    \n",
    "    return model"
   ]
  },
  {
   "cell_type": "code",
   "execution_count": 19,
   "metadata": {},
   "outputs": [
    {
     "name": "stdout",
     "output_type": "stream",
     "text": [
      "Epoch 1/20\n",
      "train Loss: 0.1012 Acc: 0.9704\n",
      "val Loss: 0.1452 Acc: 0.9468\n",
      "Epoch 2/20\n",
      "train Loss: 0.0272 Acc: 0.9925\n",
      "val Loss: 0.0836 Acc: 0.9745\n",
      "Epoch 3/20\n",
      "train Loss: 0.0112 Acc: 0.9977\n",
      "val Loss: 0.0535 Acc: 0.9861\n",
      "Epoch 4/20\n",
      "train Loss: 0.0056 Acc: 0.9994\n",
      "val Loss: 0.0537 Acc: 0.9838\n",
      "Epoch 5/20\n",
      "train Loss: 0.0013 Acc: 1.0000\n",
      "val Loss: 0.0357 Acc: 0.9884\n",
      "Epoch 6/20\n",
      "train Loss: 0.0008 Acc: 1.0000\n",
      "val Loss: 0.0431 Acc: 0.9884\n",
      "Epoch 7/20\n",
      "train Loss: 0.0006 Acc: 1.0000\n",
      "val Loss: 0.0376 Acc: 0.9884\n",
      "Epoch 8/20\n",
      "train Loss: 0.0005 Acc: 1.0000\n",
      "val Loss: 0.0313 Acc: 0.9907\n",
      "Epoch 9/20\n",
      "train Loss: 0.0004 Acc: 1.0000\n",
      "val Loss: 0.0321 Acc: 0.9884\n",
      "Epoch 10/20\n",
      "train Loss: 0.0004 Acc: 1.0000\n",
      "val Loss: 0.0335 Acc: 0.9884\n",
      "Epoch 11/20\n",
      "train Loss: 0.0004 Acc: 1.0000\n",
      "val Loss: 0.0362 Acc: 0.9884\n",
      "Epoch 12/20\n",
      "train Loss: 0.0004 Acc: 1.0000\n",
      "val Loss: 0.0320 Acc: 0.9884\n",
      "Epoch 13/20\n",
      "train Loss: 0.0003 Acc: 1.0000\n",
      "val Loss: 0.0299 Acc: 0.9884\n",
      "Epoch 14/20\n",
      "train Loss: 0.0003 Acc: 1.0000\n",
      "val Loss: 0.0272 Acc: 0.9884\n",
      "Epoch 15/20\n",
      "train Loss: 0.0005 Acc: 1.0000\n",
      "val Loss: 0.0291 Acc: 0.9884\n",
      "Epoch 16/20\n",
      "train Loss: 0.0169 Acc: 0.9948\n",
      "val Loss: 0.3042 Acc: 0.9190\n",
      "Epoch 17/20\n",
      "train Loss: 0.2897 Acc: 0.9217\n",
      "val Loss: 0.9813 Acc: 0.8032\n",
      "Epoch 18/20\n",
      "train Loss: 0.2257 Acc: 0.9397\n",
      "val Loss: 0.2511 Acc: 0.9097\n",
      "Epoch 19/20\n",
      "train Loss: 0.0553 Acc: 0.9826\n",
      "val Loss: 0.0884 Acc: 0.9722\n",
      "Epoch 20/20\n",
      "train Loss: 0.0168 Acc: 0.9971\n",
      "val Loss: 0.0890 Acc: 0.9792\n"
     ]
    }
   ],
   "source": [
    "model = train_model(model, {'train': train_loader, 'val': val_loader}, criterion, optimizer, num_epochs=20)\n",
    "torch.save(model, 'resnet18_model.pt')\n"
   ]
  },
  {
   "cell_type": "code",
   "execution_count": 20,
   "metadata": {},
   "outputs": [],
   "source": [
    "torch.save(model.state_dict(), 'resnet18_model_state_dict.pth')\n"
   ]
  },
  {
   "cell_type": "code",
   "execution_count": null,
   "metadata": {},
   "outputs": [],
   "source": [
    "from torchvision.models import resnet18, ResNet18_Weights\n",
    "\n",
    "# Reinitialize the model architecture\n",
    "loaded_model = resnet18(weights=ResNet18_Weights.DEFAULT)\n",
    "num_ftrs = loaded_model.fc.in_features\n",
    "loaded_model.fc = nn.Linear(num_ftrs, 41)  # Ensure the architecture matches the original\n",
    "\n",
    "# Load the saved parameters\n",
    "loaded_model.load_state_dict(torch.load('resnet18_model_state_dict.pth'))\n",
    "loaded_model = model.to(device)\n",
    "loaded_model.eval()  # Set the model to evaluation mode\n"
   ]
  },
  {
   "cell_type": "code",
   "execution_count": null,
   "metadata": {},
   "outputs": [],
   "source": [
    "# # Inference function\n",
    "# def inference(model, image_path):\n",
    "#     model.eval()\n",
    "#     image = Image.open(image_path)\n",
    "#     image = data_transforms['val'](image).unsqueeze(0)\n",
    "#     image = image.to(device)\n",
    "    \n",
    "#     with torch.no_grad():\n",
    "#         outputs = model(image)\n",
    "#         _, preds = torch.max(outputs, 1)\n",
    "#         return preds.item()\n",
    "\n",
    "# # Example usage\n",
    "# image_path = 'path_to_an_image_in_dataset'\n",
    "# class_id = inference(model, image_path)\n",
    "# print(f'Predicted class ID: {class_id}')"
   ]
  }
 ],
 "metadata": {
  "kernelspec": {
   "display_name": ".venv",
   "language": "python",
   "name": "python3"
  },
  "language_info": {
   "codemirror_mode": {
    "name": "ipython",
    "version": 3
   },
   "file_extension": ".py",
   "mimetype": "text/x-python",
   "name": "python",
   "nbconvert_exporter": "python",
   "pygments_lexer": "ipython3",
   "version": "3.9.13"
  }
 },
 "nbformat": 4,
 "nbformat_minor": 2
}
